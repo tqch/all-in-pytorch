{
 "cells": [
  {
   "cell_type": "code",
   "execution_count": 1,
   "metadata": {},
   "outputs": [],
   "source": [
    "import os\n",
    "import sys\n",
    "\n",
    "sys.path.insert(0, os.path.abspath(\"..\"))\n",
    "\n",
    "import torch\n",
    "import torch.nn as nn\n",
    "from torch.optim import Adam\n",
    "from torchvision import datasets, transforms\n",
    "from torch.utils.data import DataLoader\n",
    "from tqdm import tqdm\n",
    "from utils import load_configs\n",
    "from train import train\n",
    "from models.darn import DARN\n",
    "\n",
    "configs = load_configs(\"../configs.json\")"
   ]
  },
  {
   "cell_type": "code",
   "execution_count": 2,
   "metadata": {
    "scrolled": false
   },
   "outputs": [
    {
     "name": "stderr",
     "output_type": "stream",
     "text": [
      "1/30 epochs: 100%|██████████| 469/469 [01:03<00:00,  7.37it/s, train_loss=167, test_loss=131]\n",
      "2/30 epochs: 100%|██████████| 469/469 [01:03<00:00,  7.40it/s, train_loss=123, test_loss=114]\n",
      "3/30 epochs: 100%|██████████| 469/469 [01:03<00:00,  7.39it/s, train_loss=111, test_loss=105]\n",
      "4/30 epochs: 100%|██████████| 469/469 [01:03<00:00,  7.33it/s, train_loss=104, test_loss=100]\n",
      "5/30 epochs: 100%|██████████| 469/469 [01:03<00:00,  7.40it/s, train_loss=99.4, test_loss=96.5]\n",
      "6/30 epochs: 100%|██████████| 469/469 [01:03<00:00,  7.35it/s, train_loss=96.3, test_loss=93.9]\n",
      "7/30 epochs: 100%|██████████| 469/469 [01:03<00:00,  7.39it/s, train_loss=94, test_loss=91.7]\n",
      "8/30 epochs: 100%|██████████| 469/469 [01:03<00:00,  7.39it/s, train_loss=92.2, test_loss=90.3]\n",
      "9/30 epochs: 100%|██████████| 469/469 [01:03<00:00,  7.40it/s, train_loss=90.9, test_loss=89.1]\n",
      "10/30 epochs: 100%|██████████| 469/469 [01:03<00:00,  7.41it/s, train_loss=90, test_loss=88.2]\n",
      "11/30 epochs: 100%|██████████| 469/469 [01:03<00:00,  7.40it/s, train_loss=89.3, test_loss=87.7]\n",
      "12/30 epochs: 100%|██████████| 469/469 [01:03<00:00,  7.35it/s, train_loss=88.8, test_loss=87.2]\n",
      "13/30 epochs: 100%|██████████| 469/469 [01:03<00:00,  7.38it/s, train_loss=88.4, test_loss=86.9]\n",
      "14/30 epochs: 100%|██████████| 469/469 [01:03<00:00,  7.39it/s, train_loss=88.2, test_loss=86.7]\n",
      "15/30 epochs: 100%|██████████| 469/469 [01:03<00:00,  7.41it/s, train_loss=88, test_loss=86.6]\n",
      "16/30 epochs: 100%|██████████| 469/469 [01:03<00:00,  7.40it/s, train_loss=87.8, test_loss=86.5]\n",
      "17/30 epochs: 100%|██████████| 469/469 [01:03<00:00,  7.40it/s, train_loss=87.8, test_loss=86.3]\n",
      "18/30 epochs: 100%|██████████| 469/469 [01:03<00:00,  7.40it/s, train_loss=87.7, test_loss=86.3]\n",
      "19/30 epochs: 100%|██████████| 469/469 [01:03<00:00,  7.40it/s, train_loss=87.6, test_loss=86.3]\n",
      "20/30 epochs: 100%|██████████| 469/469 [01:03<00:00,  7.40it/s, train_loss=87.6, test_loss=86.3]\n",
      "21/30 epochs: 100%|██████████| 469/469 [01:03<00:00,  7.40it/s, train_loss=87.6, test_loss=86.2]\n",
      "22/30 epochs: 100%|██████████| 469/469 [01:03<00:00,  7.36it/s, train_loss=87.6, test_loss=86.3]\n",
      "23/30 epochs: 100%|██████████| 469/469 [01:03<00:00,  7.38it/s, train_loss=87.6, test_loss=86.2]\n",
      "24/30 epochs: 100%|██████████| 469/469 [01:03<00:00,  7.38it/s, train_loss=87.6, test_loss=86.2]\n",
      "25/30 epochs: 100%|██████████| 469/469 [01:03<00:00,  7.39it/s, train_loss=87.5, test_loss=86.1]\n",
      "26/30 epochs: 100%|██████████| 469/469 [01:03<00:00,  7.38it/s, train_loss=87.5, test_loss=86.1]\n",
      "27/30 epochs: 100%|██████████| 469/469 [01:03<00:00,  7.39it/s, train_loss=87.5, test_loss=86.1]\n",
      "28/30 epochs: 100%|██████████| 469/469 [01:03<00:00,  7.38it/s, train_loss=87.5, test_loss=86.2]\n",
      "29/30 epochs: 100%|██████████| 469/469 [01:03<00:00,  7.38it/s, train_loss=87.5, test_loss=86.2]\n",
      "30/30 epochs: 100%|██████████| 469/469 [01:03<00:00,  7.39it/s, train_loss=87.5, test_loss=86.1]\n"
     ]
    }
   ],
   "source": [
    "model = DARN()\n",
    "\n",
    "optimizer = Adam(model.parameters(), weight_decay=5e-3)\n",
    "loss_fn = lambda x,y: x\n",
    "\n",
    "epochs = 30\n",
    "batch_size = 128\n",
    "n_plots = 64\n",
    "\n",
    "root = configs[\"dataset_path\"]\n",
    "\n",
    "download = not os.path.exists(os.path.join(root,\"MNIST\"))\n",
    "device = torch.device(\"cuda\" if torch.cuda.is_available() else \"cpu\")\n",
    "\n",
    "model.to(device)\n",
    "\n",
    "trainset = datasets.MNIST(root=root, download=download, train=True, transform=transforms.ToTensor())\n",
    "testset = datasets.MNIST(root=root, download=download, train=False, transform=transforms.ToTensor())\n",
    "\n",
    "trainloader = DataLoader(trainset, shuffle=True, batch_size=batch_size)\n",
    "testloader = DataLoader(testset, shuffle=False, batch_size=batch_size)\n",
    "\n",
    "train(\n",
    "    model,\n",
    "    trainloader,\n",
    "    testloader,\n",
    "    epochs,\n",
    "    optimizer,\n",
    "    loss_fn,\n",
    "    device,\n",
    "    data_type=\"image\",\n",
    "    preprocessing=None,\n",
    "    additional_eval=None,\n",
    "    index_type=None,\n",
    "    save_dir=\"..\",\n",
    "    n_plots=n_plots\n",
    ")"
   ]
  }
 ],
 "metadata": {
  "kernelspec": {
   "display_name": "Python 3",
   "language": "python",
   "name": "python3"
  },
  "language_info": {
   "codemirror_mode": {
    "name": "ipython",
    "version": 3
   },
   "file_extension": ".py",
   "mimetype": "text/x-python",
   "name": "python",
   "nbconvert_exporter": "python",
   "pygments_lexer": "ipython3",
   "version": "3.7.6"
  }
 },
 "nbformat": 4,
 "nbformat_minor": 4
}