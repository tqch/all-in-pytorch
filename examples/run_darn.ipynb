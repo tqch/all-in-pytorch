{
 "cells": [
  {
   "cell_type": "code",
   "execution_count": 1,
   "metadata": {},
   "outputs": [],
   "source": [
    "import os\n",
    "import sys\n",
    "\n",
    "sys.path.insert(0, os.path.abspath(\"..\"))\n",
    "\n",
    "import torch\n",
    "import torch.nn as nn\n",
    "from torch.optim import Adam\n",
    "from torchvision import datasets, transforms\n",
    "from torch.utils.data import DataLoader\n",
    "from tqdm import tqdm\n",
    "from utils import load_configs\n",
    "from train import train\n",
    "from models.darn import DARN\n",
    "\n",
    "from preprocessing import GaussianNoise\n",
    "\n",
    "configs = load_configs(\"../configs.json\")"
   ]
  },
  {
   "cell_type": "code",
   "execution_count": 2,
   "metadata": {
    "scrolled": false
   },
   "outputs": [
    {
     "name": "stderr",
     "output_type": "stream",
     "text": [
      "1/30 epochs: 100%|██████████| 469/469 [02:10<00:00,  3.59it/s, train_loss=160, test_loss=131]\n",
      "2/30 epochs: 100%|██████████| 469/469 [02:11<00:00,  3.57it/s, train_loss=125, test_loss=116]\n",
      "3/30 epochs: 100%|██████████| 469/469 [02:12<00:00,  3.55it/s, train_loss=111, test_loss=106]\n",
      "4/30 epochs: 100%|██████████| 469/469 [02:13<00:00,  3.52it/s, train_loss=104, test_loss=99.3]\n",
      "5/30 epochs: 100%|██████████| 469/469 [02:11<00:00,  3.56it/s, train_loss=98, test_loss=94.9]\n",
      "6/30 epochs: 100%|██████████| 469/469 [02:12<00:00,  3.54it/s, train_loss=94.2, test_loss=91.5]\n",
      "7/30 epochs: 100%|██████████| 469/469 [02:12<00:00,  3.53it/s, train_loss=91.2, test_loss=88.4]\n",
      "8/30 epochs: 100%|██████████| 469/469 [02:13<00:00,  3.52it/s, train_loss=88.4, test_loss=86.8]\n",
      "9/30 epochs: 100%|██████████| 469/469 [02:14<00:00,  3.49it/s, train_loss=86.5, test_loss=84.3]\n",
      "10/30 epochs: 100%|██████████| 469/469 [02:14<00:00,  3.48it/s, train_loss=84.9, test_loss=83.1]\n",
      "11/30 epochs: 100%|██████████| 469/469 [02:11<00:00,  3.55it/s, train_loss=83.7, test_loss=82.1]\n",
      "12/30 epochs: 100%|██████████| 469/469 [02:13<00:00,  3.52it/s, train_loss=82.6, test_loss=81]\n",
      "13/30 epochs: 100%|██████████| 469/469 [02:12<00:00,  3.53it/s, train_loss=81.5, test_loss=80.4]\n",
      "14/30 epochs: 100%|██████████| 469/469 [02:11<00:00,  3.56it/s, train_loss=80.8, test_loss=79.5]\n",
      "15/30 epochs: 100%|██████████| 469/469 [02:13<00:00,  3.51it/s, train_loss=80, test_loss=80]\n",
      "16/30 epochs: 100%|██████████| 469/469 [02:12<00:00,  3.55it/s, train_loss=79.3, test_loss=78]\n",
      "17/30 epochs: 100%|██████████| 469/469 [02:12<00:00,  3.54it/s, train_loss=78.8, test_loss=77.3]\n",
      "18/30 epochs: 100%|██████████| 469/469 [02:11<00:00,  3.56it/s, train_loss=78.2, test_loss=76.9]\n",
      "19/30 epochs: 100%|██████████| 469/469 [02:12<00:00,  3.54it/s, train_loss=77.8, test_loss=77.2]\n",
      "20/30 epochs: 100%|██████████| 469/469 [02:12<00:00,  3.55it/s, train_loss=77.5, test_loss=76.3]\n",
      "21/30 epochs: 100%|██████████| 469/469 [02:12<00:00,  3.54it/s, train_loss=77.2, test_loss=76.2]\n",
      "22/30 epochs: 100%|██████████| 469/469 [02:12<00:00,  3.53it/s, train_loss=76.9, test_loss=75.7]\n",
      "23/30 epochs: 100%|██████████| 469/469 [02:15<00:00,  3.47it/s, train_loss=76.6, test_loss=75.3]\n",
      "24/30 epochs: 100%|██████████| 469/469 [02:14<00:00,  3.50it/s, train_loss=76.3, test_loss=75.1]\n",
      "25/30 epochs: 100%|██████████| 469/469 [02:13<00:00,  3.52it/s, train_loss=76.2, test_loss=75]\n",
      "26/30 epochs: 100%|██████████| 469/469 [02:12<00:00,  3.53it/s, train_loss=76, test_loss=74.8]\n",
      "27/30 epochs: 100%|██████████| 469/469 [02:15<00:00,  3.47it/s, train_loss=75.9, test_loss=74.6]\n",
      "28/30 epochs: 100%|██████████| 469/469 [02:11<00:00,  3.55it/s, train_loss=75.8, test_loss=74.6]\n",
      "29/30 epochs: 100%|██████████| 469/469 [02:14<00:00,  3.49it/s, train_loss=75.7, test_loss=74.5]\n",
      "30/30 epochs: 100%|██████████| 469/469 [02:16<00:00,  3.45it/s, train_loss=75.6, test_loss=74.4]\n"
     ]
    }
   ],
   "source": [
    "model = DARN()\n",
    "\n",
    "optimizer = Adam(model.parameters(), weight_decay=5e-4)\n",
    "loss_fn = lambda x,y: x\n",
    "\n",
    "epochs = 30\n",
    "batch_size = 128\n",
    "n_plots = 64\n",
    "\n",
    "root = configs[\"dataset_path\"]\n",
    "\n",
    "download = not os.path.exists(os.path.join(root,\"MNIST\"))\n",
    "device = torch.device(\"cuda\" if torch.cuda.is_available() else \"cpu\")\n",
    "\n",
    "model.to(device)\n",
    "\n",
    "trainset = datasets.MNIST(root=root, download=download, train=True, transform=transforms.ToTensor())\n",
    "testset = datasets.MNIST(root=root, download=download, train=False, transform=transforms.ToTensor())\n",
    "\n",
    "trainloader = DataLoader(trainset, shuffle=True, batch_size=batch_size)\n",
    "testloader = DataLoader(testset, shuffle=False, batch_size=batch_size)\n",
    "\n",
    "train(\n",
    "    model,\n",
    "    trainloader,\n",
    "    testloader,\n",
    "    epochs,\n",
    "    optimizer,\n",
    "    loss_fn,\n",
    "    device,\n",
    "    n_plots,\n",
    "    preprocessing=None,\n",
    "    additional_eval=None,\n",
    "    index_type=None,\n",
    "    save_dir=\"..\"\n",
    ")"
   ]
  }
 ],
 "metadata": {
  "kernelspec": {
   "display_name": "Python 3",
   "language": "python",
   "name": "python3"
  },
  "language_info": {
   "codemirror_mode": {
    "name": "ipython",
    "version": 3
   },
   "file_extension": ".py",
   "mimetype": "text/x-python",
   "name": "python",
   "nbconvert_exporter": "python",
   "pygments_lexer": "ipython3",
   "version": "3.7.6"
  }
 },
 "nbformat": 4,
 "nbformat_minor": 4
}