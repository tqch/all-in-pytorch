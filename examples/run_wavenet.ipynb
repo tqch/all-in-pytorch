{
 "cells": [
  {
   "cell_type": "code",
   "execution_count": 1,
   "metadata": {},
   "outputs": [],
   "source": [
    "import os\n",
    "import sys\n",
    "\n",
    "sys.path.insert(0, os.path.abspath(\"..\"))\n",
    "\n",
    "import torch\n",
    "import torch.nn as nn\n",
    "import torch.nn.functional as F\n",
    "from data import TinyVCTK\n",
    "from torch.utils.data import DataLoader\n",
    "from torch.optim import Adam\n",
    "from tqdm import tqdm\n",
    "from utils import load_configs\n",
    "from train import train\n",
    "from models.wavenet import WaveNet\n",
    "\n",
    "configs = load_configs(\"../configs.json\")"
   ]
  },
  {
   "cell_type": "code",
   "execution_count": 2,
   "metadata": {
    "scrolled": true
   },
   "outputs": [
    {
     "name": "stderr",
     "output_type": "stream",
     "text": [
      "1/30 epochs: 100%|██████████| 724/724 [04:32<00:00,  2.65it/s, train_loss=2.71, test_loss=2.33]\n",
      "2/30 epochs: 100%|██████████| 724/724 [04:54<00:00,  2.46it/s, train_loss=2.29, test_loss=2.11]\n",
      "3/30 epochs: 100%|██████████| 724/724 [04:43<00:00,  2.55it/s, train_loss=2.17, test_loss=2.02]\n",
      "4/30 epochs: 100%|██████████| 724/724 [04:41<00:00,  2.57it/s, train_loss=2.11, test_loss=2.06]\n",
      "5/30 epochs: 100%|██████████| 724/724 [05:02<00:00,  2.39it/s, train_loss=2.07, test_loss=2]\n",
      "6/30 epochs: 100%|██████████| 724/724 [04:48<00:00,  2.51it/s, train_loss=2.03, test_loss=1.97]\n",
      "7/30 epochs: 100%|██████████| 724/724 [04:37<00:00,  2.61it/s, train_loss=2.03, test_loss=1.97]\n",
      "8/30 epochs: 100%|██████████| 724/724 [04:31<00:00,  2.67it/s, train_loss=1.99, test_loss=1.93]\n",
      "9/30 epochs: 100%|██████████| 724/724 [04:37<00:00,  2.61it/s, train_loss=1.98, test_loss=1.97]\n",
      "10/30 epochs: 100%|██████████| 724/724 [04:33<00:00,  2.65it/s, train_loss=1.96, test_loss=1.87]\n",
      "11/30 epochs: 100%|██████████| 724/724 [04:29<00:00,  2.69it/s, train_loss=1.96, test_loss=1.92]\n",
      "12/30 epochs: 100%|██████████| 724/724 [04:56<00:00,  2.44it/s, train_loss=1.94, test_loss=1.9]\n",
      "13/30 epochs: 100%|██████████| 724/724 [04:44<00:00,  2.55it/s, train_loss=1.93, test_loss=1.9]\n",
      "14/30 epochs: 100%|██████████| 724/724 [04:51<00:00,  2.48it/s, train_loss=1.93, test_loss=1.82]\n",
      "15/30 epochs: 100%|██████████| 724/724 [04:44<00:00,  2.54it/s, train_loss=1.91, test_loss=1.83]\n",
      "16/30 epochs: 100%|██████████| 724/724 [04:44<00:00,  2.55it/s, train_loss=1.91, test_loss=1.83]\n",
      "17/30 epochs: 100%|██████████| 724/724 [04:45<00:00,  2.54it/s, train_loss=1.89, test_loss=1.82]\n",
      "18/30 epochs: 100%|██████████| 724/724 [04:49<00:00,  2.50it/s, train_loss=1.9, test_loss=1.83]\n",
      "19/30 epochs: 100%|██████████| 724/724 [04:44<00:00,  2.54it/s, train_loss=1.87, test_loss=1.88]\n",
      "20/30 epochs: 100%|██████████| 724/724 [05:09<00:00,  2.34it/s, train_loss=1.87, test_loss=1.79]\n",
      "21/30 epochs: 100%|██████████| 724/724 [04:54<00:00,  2.46it/s, train_loss=1.86, test_loss=1.88]\n",
      "22/30 epochs: 100%|██████████| 724/724 [04:49<00:00,  2.50it/s, train_loss=1.86, test_loss=1.88]\n",
      "23/30 epochs: 100%|██████████| 724/724 [04:58<00:00,  2.43it/s, train_loss=1.85, test_loss=1.79]\n",
      "24/30 epochs: 100%|██████████| 724/724 [05:16<00:00,  2.28it/s, train_loss=1.85, test_loss=1.77]\n",
      "25/30 epochs: 100%|██████████| 724/724 [05:03<00:00,  2.39it/s, train_loss=1.84, test_loss=1.76]\n",
      "26/30 epochs: 100%|██████████| 724/724 [04:52<00:00,  2.48it/s, train_loss=1.83, test_loss=1.81]\n",
      "27/30 epochs: 100%|██████████| 724/724 [04:38<00:00,  2.60it/s, train_loss=1.83, test_loss=1.77]\n",
      "28/30 epochs: 100%|██████████| 724/724 [04:23<00:00,  2.75it/s, train_loss=1.82, test_loss=1.74]\n",
      "29/30 epochs: 100%|██████████| 724/724 [04:59<00:00,  2.42it/s, train_loss=1.82, test_loss=1.76]\n",
      "30/30 epochs: 100%|██████████| 724/724 [05:10<00:00,  2.33it/s, train_loss=1.82, test_loss=1.75]\n"
     ]
    }
   ],
   "source": [
    "model = WaveNet(layers_per_block=8)\n",
    "\n",
    "optimizer = Adam(model.parameters())\n",
    "\n",
    "epochs = 30\n",
    "batch_size = 16\n",
    "num_batches_eval = 10\n",
    "\n",
    "root = configs[\"dataset_path\"]\n",
    "device = torch.device(\"cuda\" if torch.cuda.is_available() else \"cpu\")\n",
    "\n",
    "def loss_fn(x_hat, x):\n",
    "    return F.cross_entropy(x_hat[:, :, :-1], (128 * x[:, 1:]).long() + 128, reduction=\"mean\")\n",
    "\n",
    "model.to(device)\n",
    "\n",
    "trainset = TinyVCTK.load_default(root=configs[\"dataset_path\"])\n",
    "trainloader = DataLoader(trainset, batch_size=batch_size, shuffle=True)\n",
    "testloader = DataLoader(trainset, batch_size=batch_size, shuffle=False)  # reuse the training data\n",
    "\n",
    "preprocessing = None\n",
    "postprocessing = trainset.transform.mu_law_decode\n",
    "\n",
    "train(\n",
    "    model,\n",
    "    trainloader,\n",
    "    testloader,\n",
    "    epochs,\n",
    "    optimizer,\n",
    "    loss_fn,\n",
    "    device,\n",
    "    data_type=\"audio\",\n",
    "    preprocessing=preprocessing,\n",
    "    postprocessing=postprocessing,\n",
    "    additional_eval=None,\n",
    "    num_batches_eval=num_batches_eval,\n",
    "    index_type=None,\n",
    "    save_dir=\"..\",\n",
    "    sampling_rate=16000,\n",
    "    person_id=27,\n",
    "    n_tracks=3\n",
    ")"
   ]
  }
 ],
 "metadata": {
  "kernelspec": {
   "display_name": "Python 3",
   "language": "python",
   "name": "python3"
  },
  "language_info": {
   "codemirror_mode": {
    "name": "ipython",
    "version": 3
   },
   "file_extension": ".py",
   "mimetype": "text/x-python",
   "name": "python",
   "nbconvert_exporter": "python",
   "pygments_lexer": "ipython3",
   "version": "3.7.6"
  }
 },
 "nbformat": 4,
 "nbformat_minor": 1
}
