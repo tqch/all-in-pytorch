{
 "cells": [
  {
   "cell_type": "code",
   "execution_count": 1,
   "metadata": {},
   "outputs": [],
   "source": [
    "import os\n",
    "import sys\n",
    "\n",
    "sys.path.insert(0, os.path.abspath(\"..\"))\n",
    "\n",
    "import torch\n",
    "import torch.nn as nn\n",
    "from torch.optim import Adam\n",
    "from torchvision import datasets, transforms\n",
    "from torch.utils.data import DataLoader\n",
    "from utils import load_configs, assess_image_quality, ImageQuality\n",
    "from train import train\n",
    "from models.autoencoder import AutoEncoder\n",
    "from preprocessing import GaussianNoise\n",
    "\n",
    "configs = load_configs(\"../configs.json\")"
   ]
  },
  {
   "cell_type": "code",
   "execution_count": 2,
   "metadata": {},
   "outputs": [
    {
     "name": "stderr",
     "output_type": "stream",
     "text": [
      "1/30 epochs: 100%|██████████| 60/60 [00:20<00:00,  2.99it/s, train_reconstruction_loss=280, train_mse=0.0998, train_psnr=10.8, train_ssim=0.331, test_reconstruction_loss=193, test_mse=0.0613, test_psnr=12.3, test_ssim=0.47]\n",
      "2/30 epochs: 100%|██████████| 60/60 [00:19<00:00,  3.14it/s, train_reconstruction_loss=192, train_mse=0.0613, train_psnr=12.3, train_ssim=0.497, test_reconstruction_loss=185, test_mse=0.0583, test_psnr=12.6, test_ssim=0.502]\n",
      "3/30 epochs: 100%|██████████| 60/60 [00:18<00:00,  3.23it/s, train_reconstruction_loss=175, train_mse=0.0538, train_psnr=12.9, train_ssim=0.569, test_reconstruction_loss=184, test_mse=0.0583, test_psnr=12.6, test_ssim=0.556]\n",
      "4/30 epochs: 100%|██████████| 60/60 [00:18<00:00,  3.20it/s, train_reconstruction_loss=155, train_mse=0.0451, train_psnr=13.7, train_ssim=0.656, test_reconstruction_loss=159, test_mse=0.0477, test_psnr=13.5, test_ssim=0.641]\n",
      "5/30 epochs: 100%|██████████| 60/60 [00:18<00:00,  3.21it/s, train_reconstruction_loss=141, train_mse=0.0392, train_psnr=14.4, train_ssim=0.711, test_reconstruction_loss=146, test_mse=0.0418, test_psnr=14.2, test_ssim=0.686]\n",
      "6/30 epochs: 100%|██████████| 60/60 [00:18<00:00,  3.20it/s, train_reconstruction_loss=132, train_mse=0.0354, train_psnr=14.9, train_ssim=0.744, test_reconstruction_loss=135, test_mse=0.0372, test_psnr=14.6, test_ssim=0.719]\n",
      "7/30 epochs: 100%|██████████| 60/60 [00:18<00:00,  3.16it/s, train_reconstruction_loss=126, train_mse=0.0326, train_psnr=15.3, train_ssim=0.767, test_reconstruction_loss=123, test_mse=0.0319, test_psnr=15.4, test_ssim=0.76]\n",
      "8/30 epochs: 100%|██████████| 60/60 [00:18<00:00,  3.16it/s, train_reconstruction_loss=121, train_mse=0.0305, train_psnr=15.6, train_ssim=0.784, test_reconstruction_loss=125, test_mse=0.0331, test_psnr=15.2, test_ssim=0.748]\n",
      "9/30 epochs: 100%|██████████| 60/60 [00:18<00:00,  3.20it/s, train_reconstruction_loss=117, train_mse=0.0289, train_psnr=15.8, train_ssim=0.797, test_reconstruction_loss=121, test_mse=0.0311, test_psnr=15.5, test_ssim=0.772]\n",
      "10/30 epochs: 100%|██████████| 60/60 [00:18<00:00,  3.19it/s, train_reconstruction_loss=114, train_mse=0.0276, train_psnr=16, train_ssim=0.807, test_reconstruction_loss=119, test_mse=0.0305, test_psnr=15.5, test_ssim=0.769]\n",
      "11/30 epochs: 100%|██████████| 60/60 [00:19<00:00,  3.15it/s, train_reconstruction_loss=111, train_mse=0.0265, train_psnr=16.2, train_ssim=0.816, test_reconstruction_loss=115, test_mse=0.0286, test_psnr=15.8, test_ssim=0.794]\n",
      "12/30 epochs: 100%|██████████| 60/60 [00:18<00:00,  3.16it/s, train_reconstruction_loss=109, train_mse=0.0256, train_psnr=16.4, train_ssim=0.823, test_reconstruction_loss=115, test_mse=0.0285, test_psnr=15.8, test_ssim=0.798]\n",
      "13/30 epochs: 100%|██████████| 60/60 [00:18<00:00,  3.17it/s, train_reconstruction_loss=107, train_mse=0.0247, train_psnr=16.6, train_ssim=0.83, test_reconstruction_loss=116, test_mse=0.0289, test_psnr=15.8, test_ssim=0.79]\n",
      "14/30 epochs: 100%|██████████| 60/60 [00:19<00:00,  3.14it/s, train_reconstruction_loss=106, train_mse=0.0241, train_psnr=16.7, train_ssim=0.835, test_reconstruction_loss=116, test_mse=0.0292, test_psnr=15.7, test_ssim=0.791]\n",
      "15/30 epochs: 100%|██████████| 60/60 [00:19<00:00,  3.11it/s, train_reconstruction_loss=104, train_mse=0.0234, train_psnr=16.8, train_ssim=0.84, test_reconstruction_loss=110, test_mse=0.0263, test_psnr=16.2, test_ssim=0.816]\n",
      "16/30 epochs: 100%|██████████| 60/60 [00:19<00:00,  3.06it/s, train_reconstruction_loss=103, train_mse=0.0231, train_psnr=16.9, train_ssim=0.843, test_reconstruction_loss=110, test_mse=0.0264, test_psnr=16.2, test_ssim=0.816]\n",
      "17/30 epochs: 100%|██████████| 60/60 [00:19<00:00,  3.12it/s, train_reconstruction_loss=102, train_mse=0.0224, train_psnr=17, train_ssim=0.848, test_reconstruction_loss=108, test_mse=0.0259, test_psnr=16.3, test_ssim=0.817]\n",
      "18/30 epochs: 100%|██████████| 60/60 [00:19<00:00,  3.11it/s, train_reconstruction_loss=101, train_mse=0.022, train_psnr=17.1, train_ssim=0.851, test_reconstruction_loss=104, test_mse=0.0237, test_psnr=16.8, test_ssim=0.833]\n",
      "19/30 epochs: 100%|██████████| 60/60 [00:19<00:00,  3.09it/s, train_reconstruction_loss=100, train_mse=0.0217, train_psnr=17.2, train_ssim=0.854, test_reconstruction_loss=106, test_mse=0.0247, test_psnr=16.5, test_ssim=0.826]\n",
      "20/30 epochs: 100%|██████████| 60/60 [00:19<00:00,  3.08it/s, train_reconstruction_loss=98.9, train_mse=0.0212, train_psnr=17.3, train_ssim=0.857, test_reconstruction_loss=119, test_mse=0.0303, test_psnr=15.6, test_ssim=0.783]\n",
      "21/30 epochs: 100%|██████████| 60/60 [00:19<00:00,  3.07it/s, train_reconstruction_loss=97.8, train_mse=0.0207, train_psnr=17.4, train_ssim=0.861, test_reconstruction_loss=102, test_mse=0.023, test_psnr=16.9, test_ssim=0.834]\n",
      "22/30 epochs: 100%|██████████| 60/60 [00:19<00:00,  3.11it/s, train_reconstruction_loss=97.2, train_mse=0.0204, train_psnr=17.5, train_ssim=0.863, test_reconstruction_loss=106, test_mse=0.0249, test_psnr=16.4, test_ssim=0.824]\n",
      "23/30 epochs: 100%|██████████| 60/60 [00:19<00:00,  3.09it/s, train_reconstruction_loss=96.4, train_mse=0.0201, train_psnr=17.5, train_ssim=0.865, test_reconstruction_loss=103, test_mse=0.0234, test_psnr=16.8, test_ssim=0.831]\n",
      "24/30 epochs: 100%|██████████| 60/60 [00:19<00:00,  3.08it/s, train_reconstruction_loss=96, train_mse=0.0199, train_psnr=17.6, train_ssim=0.866, test_reconstruction_loss=104, test_mse=0.0238, test_psnr=16.7, test_ssim=0.836]\n",
      "25/30 epochs: 100%|██████████| 60/60 [00:19<00:00,  3.11it/s, train_reconstruction_loss=95.3, train_mse=0.0196, train_psnr=17.7, train_ssim=0.869, test_reconstruction_loss=109, test_mse=0.0262, test_psnr=16.1, test_ssim=0.811]\n",
      "26/30 epochs: 100%|██████████| 60/60 [00:19<00:00,  3.08it/s, train_reconstruction_loss=94.8, train_mse=0.0194, train_psnr=17.7, train_ssim=0.871, test_reconstruction_loss=105, test_mse=0.0243, test_psnr=16.5, test_ssim=0.811]\n",
      "27/30 epochs: 100%|██████████| 60/60 [00:19<00:00,  3.11it/s, train_reconstruction_loss=94.2, train_mse=0.0192, train_psnr=17.8, train_ssim=0.872, test_reconstruction_loss=105, test_mse=0.024, test_psnr=16.6, test_ssim=0.828]\n",
      "28/30 epochs: 100%|██████████| 60/60 [00:19<00:00,  3.13it/s, train_reconstruction_loss=93.5, train_mse=0.0189, train_psnr=17.8, train_ssim=0.875, test_reconstruction_loss=98.6, test_mse=0.0216, test_psnr=17.1, test_ssim=0.849]\n",
      "29/30 epochs: 100%|██████████| 60/60 [00:19<00:00,  3.07it/s, train_reconstruction_loss=93, train_mse=0.0186, train_psnr=17.9, train_ssim=0.876, test_reconstruction_loss=109, test_mse=0.0263, test_psnr=16.1, test_ssim=0.812]\n",
      "30/30 epochs: 100%|██████████| 60/60 [00:19<00:00,  3.11it/s, train_reconstruction_loss=92.8, train_mse=0.0186, train_psnr=17.9, train_ssim=0.877, test_reconstruction_loss=103, test_mse=0.0233, test_psnr=16.7, test_ssim=0.828]\n"
     ]
    }
   ],
   "source": [
    "model = AutoEncoder()\n",
    "\n",
    "optimizer = Adam(model.parameters())\n",
    "loss_fn = nn.BCEWithLogitsLoss(reduction=\"mean\")\n",
    "\n",
    "epochs = 30\n",
    "batch_size = 1000\n",
    "n_plots = 64\n",
    "\n",
    "root = configs[\"dataset_path\"]\n",
    "\n",
    "download = not os.path.exists(os.path.join(root,\"MNIST\"))\n",
    "device = torch.device(\"cuda\" if torch.cuda.is_available() else \"cpu\")\n",
    "\n",
    "model.to(device)\n",
    "\n",
    "trainset = datasets.MNIST(root=root, download=download, train=True, transform=transforms.ToTensor())\n",
    "testset = datasets.MNIST(root=root, download=download, train=False, transform=transforms.ToTensor())\n",
    "\n",
    "trainloader = DataLoader(trainset, shuffle=True, batch_size=batch_size)\n",
    "testloader = DataLoader(testset, shuffle=False, batch_size=batch_size)\n",
    "\n",
    "preprocessing = GaussianNoise(60/255)\n",
    "preprocessing.to(device)\n",
    "\n",
    "train(\n",
    "    model,\n",
    "    trainloader,\n",
    "    testloader,\n",
    "    epochs,\n",
    "    optimizer,\n",
    "    loss_fn,\n",
    "    device,\n",
    "    n_plots,\n",
    "    preprocessing=preprocessing,\n",
    "    additional_eval=assess_image_quality,\n",
    "    save_dir=\"..\"\n",
    ")"
   ]
  },
  {
   "cell_type": "code",
   "execution_count": 3,
   "metadata": {},
   "outputs": [
    {
     "data": {
      "image/png": "[encoded data removed]",
      "text/plain": [
       "<Figure size 720x360 with 2 Axes>"
      ]
     },
     "metadata": {
      "needs_background": "light"
     },
     "output_type": "display_data"
    }
   ],
   "source": [
    "import matplotlib.pyplot as plt\n",
    "\n",
    "img = torch.FloatTensor((testset.data[0] + 60*torch.randn(28,28)).clamp(0,255)/255).cuda()[None,None,:,:]\n",
    "\n",
    "plt.figure(figsize=(10,5))\n",
    "ax = plt.subplot(1,2,1)\n",
    "ax.imshow(img[0,0].cpu().numpy())\n",
    "ax.set_title(\"Corrupted:\")\n",
    "ax.axis(\"off\")\n",
    "ax = plt.subplot(1,2,2)\n",
    "ax.imshow(torch.sigmoid(model(img)[0,0].detach().cpu()).numpy())\n",
    "ax.set_title(\"Recovered:\")\n",
    "_ = ax.axis(\"off\")"
   ]
  }
 ],
 "metadata": {
  "kernelspec": {
   "display_name": "Python 3",
   "language": "python",
   "name": "python3"
  },
  "language_info": {
   "codemirror_mode": {
    "name": "ipython",
    "version": 3
   },
   "file_extension": ".py",
   "mimetype": "text/x-python",
   "name": "python",
   "nbconvert_exporter": "python",
   "pygments_lexer": "ipython3",
   "version": "3.7.6"
  },
  "pycharm": {
   "stem_cell": {
    "cell_type": "raw",
    "metadata": {
     "collapsed": false
    },
    "source": [
     "model = AutoEncoder()\n",
     "\n",
     "optimizer = Adam(model.parameters())\n",
     "loss_fn = nn.BCEWithLogitsLoss(reduction=\"sum\")\n",
     "\n",
     "epochs = 30\n",
     "batch_size = 1024\n",
     "\n",
     "download = os.path.exists(\"./datasets/MNIST\")\n",
     "device = torch.device(\"cuda\" if torch.cuda.is_available() else \"cpu\")\n",
     "\n",
     "model.to(device)\n",
     "\n",
     "trainset = datasets.MNIST(root=\"./datasets\", download=download, train=True, transform=transforms.ToTensor())\n",
     "testset = datasets.MNIST(root=\"./datasets\", download=download, train=False, transform=transforms.ToTensor())\n",
     "\n",
     "trainloader = DataLoader(trainset, shuffle=True, batch_size=batch_size)\n",
     "testloader = DataLoader(testset, shuffle=False, batch_size=batch_size//16)\n",
     "\n",
     "for e in range(epochs):\n",
     "  with tqdm(trainloader, desc=f\"{e+1}/{epochs}\") as t:\n",
     "    running_loss = 0\n",
     "    running_total = 0\n",
     "    for i,(x,_) in enumerate(t):\n",
     "      model.train()\n",
     "      x_hat = model(x.to(device))\n",
     "      loss = loss_fn(x_hat,x.to(device))\n",
     "      optimizer.zero_grad()\n",
     "      loss.backward()\n",
     "      optimizer.step()\n",
     "      running_loss += loss.item()\n",
     "      running_total += x.size(0)\n",
     "      if i < len(trainloader)-1:\n",
     "        t.set_postfix({\"train_reconstruction_loss\": running_loss/running_total})\n",
     "      else:\n",
     "        test_loss = 0\n",
     "        test_total = 0\n",
     "        for j,(x,_) in enumerate(testloader):\n",
     "          model.eval()\n",
     "          x,_ = next(iter(testloader))\n",
     "          with torch.no_grad():\n",
     "            x_hat = model(x.to(device))\n",
     "            test_loss += loss_fn(x_hat,x.to(device)).item()\n",
     "            test_total += x.size(0)\n",
     "          if j == 0:\n",
     "            save_fig(make_grid(x_hat),e+1)\n",
     "        t.set_postfix({\n",
     "            \"train_reconstruction_loss\":running_loss/running_total,\n",
     "            \"test_reconstruction_loss\": test_loss/test_total\n",
     "            })\n"
    ]
   }
  }
 },
 "nbformat": 4,
 "nbformat_minor": 1
}