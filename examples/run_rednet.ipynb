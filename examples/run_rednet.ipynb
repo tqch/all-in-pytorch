{
 "cells": [
  {
   "cell_type": "code",
   "execution_count": 1,
   "metadata": {},
   "outputs": [],
   "source": [
    "import os\n",
    "import sys\n",
    "\n",
    "sys.path.insert(0, os.path.abspath(\"..\"))\n",
    "\n",
    "import torch\n",
    "import torch.nn as nn\n",
    "from torch.optim import Adam\n",
    "from torchvision import datasets, transforms\n",
    "from torch.utils.data import DataLoader\n",
    "from tqdm import tqdm\n",
    "from utils import load_configs, assess_image_quality, ImageQuality\n",
    "from train import train\n",
    "from models.rednet import REDNet\n",
    "\n",
    "from preprocessing import GaussianNoise\n",
    "\n",
    "configs = load_configs(\"../configs.json\")"
   ]
  },
  {
   "cell_type": "code",
   "execution_count": 2,
   "metadata": {},
   "outputs": [
    {
     "name": "stderr",
     "output_type": "stream",
     "text": [
      "1/30 epochs: 100%|██████████| 60/60 [00:21<00:00,  2.86it/s, train_reconstruction_loss=113, train_mse=0.0243, train_psnr=19.1, train_ssim=0.857, test_reconstruction_loss=62.7, test_mse=0.00573, test_psnr=22.7, test_ssim=0.963]\n",
      "2/30 epochs: 100%|██████████| 60/60 [00:20<00:00,  2.98it/s, train_reconstruction_loss=61.9, train_mse=0.00511, train_psnr=23.2, train_ssim=0.969, test_reconstruction_loss=59.7, test_mse=0.00473, test_psnr=23.5, test_ssim=0.97]\n",
      "3/30 epochs: 100%|██████████| 60/60 [00:20<00:00,  2.93it/s, train_reconstruction_loss=59.9, train_mse=0.00448, train_psnr=23.7, train_ssim=0.973, test_reconstruction_loss=58.1, test_mse=0.00427, test_psnr=24, test_ssim=0.973]\n",
      "4/30 epochs: 100%|██████████| 60/60 [00:20<00:00,  2.99it/s, train_reconstruction_loss=58.9, train_mse=0.00418, train_psnr=24, train_ssim=0.975, test_reconstruction_loss=57.3, test_mse=0.00404, test_psnr=24.2, test_ssim=0.974]\n",
      "5/30 epochs: 100%|██████████| 60/60 [00:21<00:00,  2.85it/s, train_reconstruction_loss=58.3, train_mse=0.004, train_psnr=24.2, train_ssim=0.976, test_reconstruction_loss=56.9, test_mse=0.00391, test_psnr=24.4, test_ssim=0.975]\n",
      "6/30 epochs: 100%|██████████| 60/60 [00:19<00:00,  3.01it/s, train_reconstruction_loss=57.9, train_mse=0.00387, train_psnr=24.4, train_ssim=0.977, test_reconstruction_loss=56.5, test_mse=0.00381, test_psnr=24.5, test_ssim=0.976]\n",
      "7/30 epochs: 100%|██████████| 60/60 [00:19<00:00,  3.07it/s, train_reconstruction_loss=57.5, train_mse=0.00377, train_psnr=24.5, train_ssim=0.978, test_reconstruction_loss=56.1, test_mse=0.00367, test_psnr=24.6, test_ssim=0.977]\n",
      "8/30 epochs: 100%|██████████| 60/60 [00:19<00:00,  3.09it/s, train_reconstruction_loss=57.3, train_mse=0.00371, train_psnr=24.6, train_ssim=0.978, test_reconstruction_loss=56, test_mse=0.00365, test_psnr=24.7, test_ssim=0.977]\n",
      "9/30 epochs: 100%|██████████| 60/60 [00:19<00:00,  3.08it/s, train_reconstruction_loss=57.1, train_mse=0.00363, train_psnr=24.7, train_ssim=0.978, test_reconstruction_loss=55.9, test_mse=0.00364, test_psnr=24.7, test_ssim=0.976]\n",
      "10/30 epochs: 100%|██████████| 60/60 [00:19<00:00,  3.09it/s, train_reconstruction_loss=56.9, train_mse=0.00358, train_psnr=24.7, train_ssim=0.979, test_reconstruction_loss=55.5, test_mse=0.0035, test_psnr=24.8, test_ssim=0.978]\n",
      "11/30 epochs: 100%|██████████| 60/60 [00:19<00:00,  3.11it/s, train_reconstruction_loss=56.8, train_mse=0.00353, train_psnr=24.8, train_ssim=0.979, test_reconstruction_loss=55.4, test_mse=0.00346, test_psnr=24.9, test_ssim=0.978]\n",
      "12/30 epochs: 100%|██████████| 60/60 [00:19<00:00,  3.07it/s, train_reconstruction_loss=56.6, train_mse=0.00348, train_psnr=24.8, train_ssim=0.979, test_reconstruction_loss=55.3, test_mse=0.00344, test_psnr=24.9, test_ssim=0.979]\n",
      "13/30 epochs: 100%|██████████| 60/60 [00:19<00:00,  3.10it/s, train_reconstruction_loss=56.5, train_mse=0.00345, train_psnr=24.9, train_ssim=0.98, test_reconstruction_loss=55.2, test_mse=0.0034, test_psnr=25, test_ssim=0.978]\n",
      "14/30 epochs: 100%|██████████| 60/60 [00:19<00:00,  3.06it/s, train_reconstruction_loss=56.4, train_mse=0.00343, train_psnr=24.9, train_ssim=0.98, test_reconstruction_loss=55.2, test_mse=0.00341, test_psnr=25, test_ssim=0.978]\n",
      "15/30 epochs: 100%|██████████| 60/60 [00:19<00:00,  3.08it/s, train_reconstruction_loss=56.3, train_mse=0.0034, train_psnr=24.9, train_ssim=0.98, test_reconstruction_loss=55, test_mse=0.00334, test_psnr=25.1, test_ssim=0.979]\n",
      "16/30 epochs: 100%|██████████| 60/60 [00:19<00:00,  3.07it/s, train_reconstruction_loss=56.3, train_mse=0.0034, train_psnr=24.9, train_ssim=0.98, test_reconstruction_loss=54.9, test_mse=0.00332, test_psnr=25.1, test_ssim=0.979]\n",
      "17/30 epochs: 100%|██████████| 60/60 [00:19<00:00,  3.04it/s, train_reconstruction_loss=56.2, train_mse=0.00336, train_psnr=25, train_ssim=0.98, test_reconstruction_loss=54.8, test_mse=0.00329, test_psnr=25.1, test_ssim=0.979]\n",
      "18/30 epochs: 100%|██████████| 60/60 [00:20<00:00,  2.99it/s, train_reconstruction_loss=56.2, train_mse=0.00335, train_psnr=25, train_ssim=0.98, test_reconstruction_loss=54.8, test_mse=0.00329, test_psnr=25.1, test_ssim=0.979]\n",
      "19/30 epochs: 100%|██████████| 60/60 [00:19<00:00,  3.02it/s, train_reconstruction_loss=56.1, train_mse=0.00332, train_psnr=25.1, train_ssim=0.98, test_reconstruction_loss=54.7, test_mse=0.00325, test_psnr=25.2, test_ssim=0.98]\n",
      "20/30 epochs: 100%|██████████| 60/60 [00:19<00:00,  3.05it/s, train_reconstruction_loss=56, train_mse=0.0033, train_psnr=25.1, train_ssim=0.981, test_reconstruction_loss=54.7, test_mse=0.00324, test_psnr=25.2, test_ssim=0.98]\n",
      "21/30 epochs: 100%|██████████| 60/60 [00:20<00:00,  2.89it/s, train_reconstruction_loss=56, train_mse=0.00329, train_psnr=25.1, train_ssim=0.981, test_reconstruction_loss=54.8, test_mse=0.0033, test_psnr=25.1, test_ssim=0.979]\n",
      "22/30 epochs: 100%|██████████| 60/60 [00:19<00:00,  3.01it/s, train_reconstruction_loss=56, train_mse=0.00329, train_psnr=25.1, train_ssim=0.981, test_reconstruction_loss=54.6, test_mse=0.00322, test_psnr=25.2, test_ssim=0.98]\n",
      "23/30 epochs: 100%|██████████| 60/60 [00:20<00:00,  2.98it/s, train_reconstruction_loss=55.9, train_mse=0.00327, train_psnr=25.1, train_ssim=0.981, test_reconstruction_loss=54.5, test_mse=0.0032, test_psnr=25.2, test_ssim=0.98]\n",
      "24/30 epochs: 100%|██████████| 60/60 [00:20<00:00,  2.99it/s, train_reconstruction_loss=55.8, train_mse=0.00325, train_psnr=25.1, train_ssim=0.981, test_reconstruction_loss=54.5, test_mse=0.0032, test_psnr=25.2, test_ssim=0.98]\n",
      "25/30 epochs: 100%|██████████| 60/60 [00:19<00:00,  3.00it/s, train_reconstruction_loss=55.8, train_mse=0.00322, train_psnr=25.2, train_ssim=0.981, test_reconstruction_loss=54.4, test_mse=0.00316, test_psnr=25.3, test_ssim=0.98]\n",
      "26/30 epochs: 100%|██████████| 60/60 [00:20<00:00,  2.98it/s, train_reconstruction_loss=55.7, train_mse=0.00321, train_psnr=25.2, train_ssim=0.981, test_reconstruction_loss=54.4, test_mse=0.00315, test_psnr=25.3, test_ssim=0.98]\n",
      "27/30 epochs: 100%|██████████| 60/60 [00:20<00:00,  2.95it/s, train_reconstruction_loss=55.7, train_mse=0.00322, train_psnr=25.2, train_ssim=0.981, test_reconstruction_loss=54.4, test_mse=0.00317, test_psnr=25.3, test_ssim=0.98]\n",
      "28/30 epochs: 100%|██████████| 60/60 [00:19<00:00,  3.03it/s, train_reconstruction_loss=55.8, train_mse=0.00324, train_psnr=25.2, train_ssim=0.981, test_reconstruction_loss=54.6, test_mse=0.00323, test_psnr=25.2, test_ssim=0.98]\n",
      "29/30 epochs: 100%|██████████| 60/60 [00:19<00:00,  3.02it/s, train_reconstruction_loss=55.7, train_mse=0.0032, train_psnr=25.2, train_ssim=0.981, test_reconstruction_loss=54.3, test_mse=0.00313, test_psnr=25.3, test_ssim=0.98]\n",
      "30/30 epochs: 100%|██████████| 60/60 [00:19<00:00,  3.03it/s, train_reconstruction_loss=55.6, train_mse=0.00318, train_psnr=25.2, train_ssim=0.981, test_reconstruction_loss=54.3, test_mse=0.00313, test_psnr=25.3, test_ssim=0.98]\n"
     ]
    }
   ],
   "source": [
    "model = REDNet()\n",
    "\n",
    "optimizer = Adam(model.parameters())\n",
    "loss_fn = nn.BCEWithLogitsLoss(reduction=\"mean\")\n",
    "\n",
    "epochs = 30\n",
    "batch_size = 1000\n",
    "n_plots = 64\n",
    "\n",
    "root = configs[\"dataset_path\"]\n",
    "\n",
    "download = not os.path.exists(os.path.join(root,\"MNIST\"))\n",
    "device = torch.device(\"cuda\" if torch.cuda.is_available() else \"cpu\")\n",
    "\n",
    "model.to(device)\n",
    "\n",
    "trainset = datasets.MNIST(root=root, download=download, train=True, transform=transforms.ToTensor())\n",
    "testset = datasets.MNIST(root=root, download=download, train=False, transform=transforms.ToTensor())\n",
    "\n",
    "trainloader = DataLoader(trainset, shuffle=True, batch_size=batch_size)\n",
    "testloader = DataLoader(testset, shuffle=False, batch_size=batch_size)\n",
    "\n",
    "#preprocessing = GaussianFilter(1,7,1,3)\n",
    "preprocessing = GaussianNoise(60/255)\n",
    "preprocessing.to(device)\n",
    "\n",
    "train(\n",
    "    model,\n",
    "    trainloader,\n",
    "    testloader,\n",
    "    epochs,\n",
    "    optimizer,\n",
    "    loss_fn,\n",
    "    device,\n",
    "    data_type=\"image\",\n",
    "    preprocessing=preprocessing,\n",
    "    additional_eval=assess_image_quality,\n",
    "    index_type=ImageQuality,\n",
    "    save_dir=\"..\",\n",
    "    n_plots=n_plots\n",
    ")"
   ]
  },
  {
   "cell_type": "code",
   "execution_count": 3,
   "metadata": {},
   "outputs": [
    {
     "data": {
      "image/png": "[encoded data removed]",
      "text/plain": [
       "<Figure size 720x360 with 2 Axes>"
      ]
     },
     "metadata": {
      "needs_background": "light"
     },
     "output_type": "display_data"
    }
   ],
   "source": [
    "import matplotlib.pyplot as plt\n",
    "\n",
    "img = torch.FloatTensor((testset.data[0] + 60*torch.randn(28,28)).clamp(0,255)/255).cuda()[None,None,:,:]\n",
    "\n",
    "plt.figure(figsize=(10,5))\n",
    "ax = plt.subplot(1,2,1)\n",
    "ax.imshow(img[0,0].cpu().numpy())\n",
    "ax.set_title(\"Corrupted:\")\n",
    "ax.axis(\"off\")\n",
    "ax = plt.subplot(1,2,2)\n",
    "ax.imshow(torch.sigmoid(model(img)[0,0].detach().cpu()).numpy())\n",
    "ax.set_title(\"Recovered:\")\n",
    "_ = ax.axis(\"off\")"
   ]
  }
 ],
 "metadata": {
  "kernelspec": {
   "display_name": "Python 3",
   "language": "python",
   "name": "python3"
  },
  "language_info": {
   "codemirror_mode": {
    "name": "ipython",
    "version": 3
   },
   "file_extension": ".py",
   "mimetype": "text/x-python",
   "name": "python",
   "nbconvert_exporter": "python",
   "pygments_lexer": "ipython3",
   "version": "3.7.6"
  }
 },
 "nbformat": 4,
 "nbformat_minor": 1
}