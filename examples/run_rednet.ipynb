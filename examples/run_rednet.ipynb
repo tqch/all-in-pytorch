{
 "cells": [
  {
   "cell_type": "code",
   "execution_count": 1,
   "metadata": {},
   "outputs": [],
   "source": [
    "import os\n",
    "import sys\n",
    "\n",
    "sys.path.insert(0, os.path.abspath(\"..\"))\n",
    "\n",
    "import torch\n",
    "import torch.nn as nn\n",
    "from torch.optim import Adam\n",
    "from torchvision import datasets, transforms\n",
    "from torch.utils.data import DataLoader\n",
    "from tqdm import tqdm\n",
    "from utils import load_configs\n",
    "from train import train\n",
    "from models.rednet import REDNet\n",
    "\n",
    "from preprocessing import GaussianFilter\n",
    "\n",
    "configs = load_configs(\"../configs.json\")"
   ]
  },
  {
   "cell_type": "code",
   "execution_count": null,
   "metadata": {},
   "outputs": [
    {
     "name": "stderr",
     "output_type": "stream",
     "text": [
      "1/30 epochs: 100%|██████████| 60/60 [00:23<00:00,  2.57it/s, train_reconstruction_loss=101, train_mse=0.02, train_psnr=20.2, train_ssim=0.886, test_reconstruction_loss=58.8, test_mse=0.00452, test_psnr=23.9, test_ssim=0.968]\n",
      "2/30 epochs: 100%|██████████| 60/60 [00:21<00:00,  2.78it/s, train_reconstruction_loss=55.8, train_mse=0.00321, train_psnr=25.5, train_ssim=0.98, test_reconstruction_loss=53, test_mse=0.0026, test_psnr=26.3, test_ssim=0.982]\n",
      "3/30 epochs: 100%|██████████| 60/60 [00:22<00:00,  2.67it/s, train_reconstruction_loss=53.1, train_mse=0.00221, train_psnr=27, train_ssim=0.987, test_reconstruction_loss=51.3, test_mse=0.00199, test_psnr=27.5, test_ssim=0.987]\n",
      "4/30 epochs: 100%|██████████| 60/60 [00:21<00:00,  2.77it/s, train_reconstruction_loss=52, train_mse=0.00185, train_psnr=27.8, train_ssim=0.989, test_reconstruction_loss=50.5, test_mse=0.00172, test_psnr=28.1, test_ssim=0.989]\n",
      "5/30 epochs: 100%|██████████| 60/60 [00:21<00:00,  2.76it/s, train_reconstruction_loss=51.4, train_mse=0.00164, train_psnr=28.3, train_ssim=0.99, test_reconstruction_loss=50, test_mse=0.00156, test_psnr=28.5, test_ssim=0.99]\n",
      "6/30 epochs: 100%|██████████| 60/60 [00:21<00:00,  2.77it/s, train_reconstruction_loss=51, train_mse=0.0015, train_psnr=28.7, train_ssim=0.991, test_reconstruction_loss=49.8, test_mse=0.00149, test_psnr=28.7, test_ssim=0.991]\n",
      "7/30 epochs: 100%|██████████| 60/60 [00:22<00:00,  2.67it/s, train_reconstruction_loss=50.9, train_mse=0.00145, train_psnr=28.8, train_ssim=0.991, test_reconstruction_loss=49.6, test_mse=0.00141, test_psnr=28.9, test_ssim=0.991]\n",
      "8/30 epochs: 100%|██████████| 60/60 [00:22<00:00,  2.64it/s, train_reconstruction_loss=50.6, train_mse=0.00134, train_psnr=29.1, train_ssim=0.992, test_reconstruction_loss=49.3, test_mse=0.00129, test_psnr=29.3, test_ssim=0.992]\n",
      "9/30 epochs: 100%|██████████| 60/60 [00:22<00:00,  2.67it/s, train_reconstruction_loss=50.4, train_mse=0.00128, train_psnr=29.3, train_ssim=0.992, test_reconstruction_loss=49.3, test_mse=0.00134, test_psnr=29.1, test_ssim=0.992]\n",
      "10/30 epochs: 100%|██████████| 60/60 [00:22<00:00,  2.62it/s, train_reconstruction_loss=50.2, train_mse=0.00122, train_psnr=29.6, train_ssim=0.993, test_reconstruction_loss=48.9, test_mse=0.00117, test_psnr=29.7, test_ssim=0.993]\n",
      "11/30 epochs: 100%|██████████| 60/60 [00:23<00:00,  2.58it/s, train_reconstruction_loss=50.1, train_mse=0.00121, train_psnr=29.6, train_ssim=0.993, test_reconstruction_loss=48.8, test_mse=0.00116, test_psnr=29.8, test_ssim=0.993]\n",
      "12/30 epochs: 100%|██████████| 60/60 [00:23<00:00,  2.60it/s, train_reconstruction_loss=49.9, train_mse=0.00114, train_psnr=29.9, train_ssim=0.993, test_reconstruction_loss=48.6, test_mse=0.00108, test_psnr=30.1, test_ssim=0.993]\n",
      "13/30 epochs: 100%|██████████| 60/60 [00:22<00:00,  2.63it/s, train_reconstruction_loss=49.8, train_mse=0.00111, train_psnr=30, train_ssim=0.994, test_reconstruction_loss=48.9, test_mse=0.00121, test_psnr=29.6, test_ssim=0.993]\n",
      "14/30 epochs: 100%|██████████| 60/60 [00:26<00:00,  2.29it/s, train_reconstruction_loss=49.7, train_mse=0.00106, train_psnr=30.2, train_ssim=0.994, test_reconstruction_loss=48.9, test_mse=0.00116, test_psnr=29.8, test_ssim=0.993]\n",
      "15/30 epochs: 100%|██████████| 60/60 [00:24<00:00,  2.42it/s, train_reconstruction_loss=49.7, train_mse=0.00106, train_psnr=30.2, train_ssim=0.994, test_reconstruction_loss=48.7, test_mse=0.00112, test_psnr=29.9, test_ssim=0.993]\n",
      "16/30 epochs: 100%|██████████| 60/60 [00:25<00:00,  2.35it/s, train_reconstruction_loss=49.5, train_mse=0.00101, train_psnr=30.4, train_ssim=0.994, test_reconstruction_loss=48.4, test_mse=0.00103, test_psnr=30.3, test_ssim=0.994]\n",
      "17/30 epochs: 100%|██████████| 60/60 [00:22<00:00,  2.68it/s, train_reconstruction_loss=49.5, train_mse=0.000995, train_psnr=30.4, train_ssim=0.994, test_reconstruction_loss=48.4, test_mse=0.000984, test_psnr=30.5, test_ssim=0.994]\n",
      "18/30 epochs: 100%|██████████| 60/60 [00:22<00:00,  2.64it/s, train_reconstruction_loss=49.5, train_mse=0.000998, train_psnr=30.4, train_ssim=0.994, test_reconstruction_loss=48.4, test_mse=0.00103, test_psnr=30.3, test_ssim=0.994]\n",
      "19/30 epochs:  50%|█████     | 30/60 [00:09<00:09,  3.26it/s, train_reconstruction_loss=49.3, train_mse=0.000941, train_psnr=30.7, train_ssim=0.995]"
     ]
    }
   ],
   "source": [
    "model = REDNet()\n",
    "\n",
    "optimizer = Adam(model.parameters())\n",
    "loss_fn = nn.BCEWithLogitsLoss(reduction=\"sum\")\n",
    "\n",
    "epochs = 30\n",
    "batch_size = 1000\n",
    "n_plots = 64\n",
    "\n",
    "root = configs[\"dataset_path\"]\n",
    "\n",
    "download = os.path.exists(os.path.join(root,\"MNIST\"))\n",
    "device = torch.device(\"cuda\" if torch.cuda.is_available() else \"cpu\")\n",
    "\n",
    "model.to(device)\n",
    "\n",
    "trainset = datasets.MNIST(root=root, download=download, train=True, transform=transforms.ToTensor())\n",
    "testset = datasets.MNIST(root=root, download=download, train=False, transform=transforms.ToTensor())\n",
    "\n",
    "trainloader = DataLoader(trainset, shuffle=True, batch_size=batch_size)\n",
    "testloader = DataLoader(testset, shuffle=False, batch_size=batch_size)\n",
    "\n",
    "preprocessing = GaussianFilter(1,7,1,3)\n",
    "\n",
    "train(\n",
    "    model,\n",
    "    trainloader,\n",
    "    testloader,\n",
    "    epochs,\n",
    "    optimizer,\n",
    "    loss_fn,\n",
    "    device,\n",
    "    n_plots,\n",
    "    preprocessing=preprocessing,\n",
    "    save_dir=\"..\"\n",
    ")"
   ]
  }
 ],
 "metadata": {
  "kernelspec": {
   "display_name": "Python 3",
   "language": "python",
   "name": "python3"
  },
  "language_info": {
   "codemirror_mode": {
    "name": "ipython",
    "version": 3
   },
   "file_extension": ".py",
   "mimetype": "text/x-python",
   "name": "python",
   "nbconvert_exporter": "python",
   "pygments_lexer": "ipython3",
   "version": "3.7.6"
  }
 },
 "nbformat": 4,
 "nbformat_minor": 1
}