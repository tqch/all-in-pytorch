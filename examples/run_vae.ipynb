{
 "cells": [
  {
   "cell_type": "code",
   "execution_count": 1,
   "metadata": {},
   "outputs": [],
   "source": [
    "import os\n",
    "import sys\n",
    "\n",
    "sys.path.insert(0, os.path.abspath(\"..\"))\n",
    "\n",
    "import torch\n",
    "import torch.nn as nn\n",
    "from torch.optim import Adam\n",
    "from torchvision import datasets, transforms\n",
    "from torch.utils.data import DataLoader\n",
    "from tqdm import tqdm\n",
    "from utils import load_configs\n",
    "from train import train\n",
    "from models.vae import VAE\n",
    "\n",
    "configs = load_configs(\"../configs.json\")"
   ]
  },
  {
   "cell_type": "code",
   "execution_count": 2,
   "metadata": {},
   "outputs": [
    {
     "name": "stderr",
     "output_type": "stream",
     "text": [
      "1/30 epochs: 100%|██████████████████████████████████████████████████████████████████████████████████████| 59/59 [00:09<00:00,  6.14it/s, train_loss=238, test_loss=202]\n",
      "2/30 epochs: 100%|██████████████████████████████████████████████████████████████████████████████████████| 59/59 [00:08<00:00,  7.19it/s, train_loss=198, test_loss=185]\n",
      "3/30 epochs: 100%|██████████████████████████████████████████████████████████████████████████████████████| 59/59 [00:08<00:00,  6.97it/s, train_loss=167, test_loss=154]\n",
      "4/30 epochs: 100%|██████████████████████████████████████████████████████████████████████████████████████| 59/59 [00:08<00:00,  6.79it/s, train_loss=147, test_loss=142]\n",
      "5/30 epochs: 100%|██████████████████████████████████████████████████████████████████████████████████████| 59/59 [00:08<00:00,  7.14it/s, train_loss=135, test_loss=131]\n",
      "6/30 epochs: 100%|██████████████████████████████████████████████████████████████████████████████████████| 59/59 [00:07<00:00,  7.41it/s, train_loss=128, test_loss=125]\n",
      "7/30 epochs: 100%|██████████████████████████████████████████████████████████████████████████████████████| 59/59 [00:08<00:00,  6.99it/s, train_loss=124, test_loss=125]\n",
      "8/30 epochs: 100%|██████████████████████████████████████████████████████████████████████████████████████| 59/59 [00:08<00:00,  7.18it/s, train_loss=121, test_loss=122]\n",
      "9/30 epochs: 100%|██████████████████████████████████████████████████████████████████████████████████████| 59/59 [00:08<00:00,  7.10it/s, train_loss=119, test_loss=122]\n",
      "10/30 epochs: 100%|█████████████████████████████████████████████████████████████████████████████████████| 59/59 [00:08<00:00,  7.26it/s, train_loss=118, test_loss=117]\n",
      "11/30 epochs: 100%|█████████████████████████████████████████████████████████████████████████████████████| 59/59 [00:08<00:00,  7.30it/s, train_loss=117, test_loss=116]\n",
      "12/30 epochs: 100%|█████████████████████████████████████████████████████████████████████████████████████| 59/59 [00:08<00:00,  7.36it/s, train_loss=116, test_loss=116]\n",
      "13/30 epochs: 100%|█████████████████████████████████████████████████████████████████████████████████████| 59/59 [00:07<00:00,  7.40it/s, train_loss=115, test_loss=117]\n",
      "14/30 epochs: 100%|█████████████████████████████████████████████████████████████████████████████████████| 59/59 [00:07<00:00,  7.44it/s, train_loss=114, test_loss=114]\n",
      "15/30 epochs: 100%|█████████████████████████████████████████████████████████████████████████████████████| 59/59 [00:09<00:00,  6.33it/s, train_loss=114, test_loss=114]\n",
      "16/30 epochs: 100%|█████████████████████████████████████████████████████████████████████████████████████| 59/59 [00:08<00:00,  7.07it/s, train_loss=113, test_loss=113]\n",
      "17/30 epochs: 100%|█████████████████████████████████████████████████████████████████████████████████████| 59/59 [00:08<00:00,  6.93it/s, train_loss=113, test_loss=113]\n",
      "18/30 epochs: 100%|█████████████████████████████████████████████████████████████████████████████████████| 59/59 [00:08<00:00,  7.09it/s, train_loss=112, test_loss=112]\n",
      "19/30 epochs: 100%|█████████████████████████████████████████████████████████████████████████████████████| 59/59 [00:07<00:00,  7.38it/s, train_loss=112, test_loss=112]\n",
      "20/30 epochs: 100%|█████████████████████████████████████████████████████████████████████████████████████| 59/59 [00:07<00:00,  7.52it/s, train_loss=111, test_loss=110]\n",
      "21/30 epochs: 100%|█████████████████████████████████████████████████████████████████████████████████████| 59/59 [00:07<00:00,  7.46it/s, train_loss=111, test_loss=110]\n",
      "22/30 epochs: 100%|█████████████████████████████████████████████████████████████████████████████████████| 59/59 [00:07<00:00,  7.49it/s, train_loss=111, test_loss=110]\n",
      "23/30 epochs: 100%|█████████████████████████████████████████████████████████████████████████████████████| 59/59 [00:07<00:00,  7.44it/s, train_loss=111, test_loss=110]\n",
      "24/30 epochs: 100%|█████████████████████████████████████████████████████████████████████████████████████| 59/59 [00:08<00:00,  6.92it/s, train_loss=110, test_loss=109]\n",
      "25/30 epochs: 100%|█████████████████████████████████████████████████████████████████████████████████████| 59/59 [00:08<00:00,  6.95it/s, train_loss=110, test_loss=110]\n",
      "26/30 epochs: 100%|█████████████████████████████████████████████████████████████████████████████████████| 59/59 [00:08<00:00,  6.94it/s, train_loss=110, test_loss=109]\n",
      "27/30 epochs: 100%|█████████████████████████████████████████████████████████████████████████████████████| 59/59 [00:07<00:00,  7.51it/s, train_loss=110, test_loss=109]\n",
      "28/30 epochs: 100%|█████████████████████████████████████████████████████████████████████████████████████| 59/59 [00:07<00:00,  7.41it/s, train_loss=110, test_loss=108]\n",
      "29/30 epochs: 100%|█████████████████████████████████████████████████████████████████████████████████████| 59/59 [00:08<00:00,  6.61it/s, train_loss=109, test_loss=109]\n",
      "30/30 epochs: 100%|█████████████████████████████████████████████████████████████████████████████████████| 59/59 [00:08<00:00,  7.11it/s, train_loss=109, test_loss=109]\n"
     ]
    }
   ],
   "source": [
    "model = VAE()\n",
    "\n",
    "optimizer = Adam(model.parameters(), lr=0.01)\n",
    "loss_fn = lambda x,y: x\n",
    "\n",
    "epochs = 30\n",
    "batch_size = 1024\n",
    "n_plots = 64\n",
    "\n",
    "root = configs[\"dataset_path\"]\n",
    "\n",
    "download = not os.path.exists(os.path.join(root,\"MNIST\"))\n",
    "device = torch.device(\"cuda\" if torch.cuda.is_available() else \"cpu\")\n",
    "\n",
    "model.to(device)\n",
    "\n",
    "trainset = datasets.MNIST(root=root, download=download, train=True, transform=transforms.ToTensor())\n",
    "testset = datasets.MNIST(root=root, download=download, train=False, transform=transforms.ToTensor())\n",
    "\n",
    "trainloader = DataLoader(trainset, shuffle=True, batch_size=batch_size)\n",
    "testloader = DataLoader(testset, shuffle=False, batch_size=batch_size)\n",
    "\n",
    "train(\n",
    "    model,\n",
    "    trainloader,\n",
    "    testloader,\n",
    "    epochs,\n",
    "    optimizer,\n",
    "    loss_fn,\n",
    "    device,\n",
    "    data_type=\"image\",\n",
    "    preprocessing=None,\n",
    "    additional_eval=None,\n",
    "    index_type=None,\n",
    "    save_dir=\"..\",\n",
    "    n_plots=n_plots\n",
    ")"
   ]
  }
 ],
 "metadata": {
  "kernelspec": {
   "display_name": "Python 3",
   "language": "python",
   "name": "python3"
  },
  "language_info": {
   "codemirror_mode": {
    "name": "ipython",
    "version": 3
   },
   "file_extension": ".py",
   "mimetype": "text/x-python",
   "name": "python",
   "nbconvert_exporter": "python",
   "pygments_lexer": "ipython3",
   "version": "3.7.6"
  }
 },
 "nbformat": 4,
 "nbformat_minor": 4
}