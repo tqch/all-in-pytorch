{
 "cells": [
  {
   "cell_type": "code",
   "execution_count": 1,
   "metadata": {},
   "outputs": [],
   "source": [
    "import os\n",
    "import sys\n",
    "\n",
    "sys.path.insert(0, os.path.abspath(\"..\"))\n",
    "\n",
    "import torch\n",
    "import torch.nn as nn\n",
    "from torch.optim import Adam\n",
    "from torchvision import datasets, transforms\n",
    "from torch.utils.data import DataLoader\n",
    "from tqdm import tqdm\n",
    "from utils import load_configs\n",
    "from train import train\n",
    "from models.pixel_rnn import PixelRNN\n",
    "\n",
    "configs = load_configs(\"../configs.json\")"
   ]
  },
  {
   "cell_type": "code",
   "execution_count": 2,
   "metadata": {},
   "outputs": [
    {
     "name": "stderr",
     "output_type": "stream",
     "text": [
      "1/30 epochs: 100%|██████████| 469/469 [03:25<00:00,  2.29it/s, train_loss=0.152, test_loss=0.112]\n",
      "2/30 epochs: 100%|██████████| 469/469 [03:23<00:00,  2.30it/s, train_loss=0.113, test_loss=0.106]\n",
      "3/30 epochs: 100%|██████████| 469/469 [03:23<00:00,  2.30it/s, train_loss=0.109, test_loss=0.104]\n",
      "4/30 epochs: 100%|██████████| 469/469 [03:23<00:00,  2.30it/s, train_loss=0.107, test_loss=0.1]\n",
      "5/30 epochs: 100%|██████████| 469/469 [03:23<00:00,  2.30it/s, train_loss=0.106, test_loss=0.1]\n",
      "6/30 epochs: 100%|██████████| 469/469 [03:24<00:00,  2.30it/s, train_loss=0.105, test_loss=0.099]\n",
      "7/30 epochs: 100%|██████████| 469/469 [03:23<00:00,  2.30it/s, train_loss=0.104, test_loss=0.0984]\n",
      "8/30 epochs: 100%|██████████| 469/469 [03:24<00:00,  2.29it/s, train_loss=0.103, test_loss=0.0986]\n",
      "9/30 epochs: 100%|██████████| 469/469 [03:27<00:00,  2.26it/s, train_loss=0.103, test_loss=0.0979]\n",
      "10/30 epochs: 100%|██████████| 469/469 [03:24<00:00,  2.30it/s, train_loss=0.102, test_loss=0.097]\n",
      "11/30 epochs: 100%|██████████| 469/469 [03:23<00:00,  2.30it/s, train_loss=0.102, test_loss=0.0989]\n",
      "12/30 epochs: 100%|██████████| 469/469 [03:24<00:00,  2.30it/s, train_loss=0.102, test_loss=0.0969]\n",
      "13/30 epochs: 100%|██████████| 469/469 [03:23<00:00,  2.30it/s, train_loss=0.102, test_loss=0.0968]\n",
      "14/30 epochs: 100%|██████████| 469/469 [03:25<00:00,  2.29it/s, train_loss=0.101, test_loss=0.0966]\n",
      "15/30 epochs: 100%|██████████| 469/469 [03:25<00:00,  2.28it/s, train_loss=0.101, test_loss=0.096]\n",
      "16/30 epochs: 100%|██████████| 469/469 [03:26<00:00,  2.27it/s, train_loss=0.101, test_loss=0.0985]\n",
      "17/30 epochs: 100%|██████████| 469/469 [03:26<00:00,  2.27it/s, train_loss=0.102, test_loss=0.096]\n",
      "18/30 epochs: 100%|██████████| 469/469 [03:27<00:00,  2.26it/s, train_loss=0.1, test_loss=0.0965]\n",
      "19/30 epochs: 100%|██████████| 469/469 [03:27<00:00,  2.26it/s, train_loss=0.1, test_loss=0.0961]\n",
      "20/30 epochs: 100%|██████████| 469/469 [03:27<00:00,  2.26it/s, train_loss=0.0999, test_loss=0.0954]\n",
      "21/30 epochs: 100%|██████████| 469/469 [03:27<00:00,  2.26it/s, train_loss=0.0995, test_loss=0.0959]\n",
      "22/30 epochs: 100%|██████████| 469/469 [03:27<00:00,  2.26it/s, train_loss=0.0998, test_loss=0.0958]\n",
      "23/30 epochs: 100%|██████████| 469/469 [03:26<00:00,  2.27it/s, train_loss=0.0995, test_loss=0.0976]\n",
      "24/30 epochs: 100%|██████████| 469/469 [03:28<00:00,  2.25it/s, train_loss=0.0993, test_loss=0.0953]\n",
      "25/30 epochs: 100%|██████████| 469/469 [03:28<00:00,  2.25it/s, train_loss=0.0991, test_loss=0.0953]\n",
      "26/30 epochs: 100%|██████████| 469/469 [03:28<00:00,  2.25it/s, train_loss=0.0991, test_loss=0.0952]\n",
      "27/30 epochs: 100%|██████████| 469/469 [03:28<00:00,  2.25it/s, train_loss=0.0987, test_loss=0.095]\n",
      "28/30 epochs: 100%|██████████| 469/469 [03:28<00:00,  2.25it/s, train_loss=0.0987, test_loss=0.0946]\n",
      "29/30 epochs: 100%|██████████| 469/469 [03:28<00:00,  2.25it/s, train_loss=0.0989, test_loss=0.0949]\n",
      "30/30 epochs: 100%|██████████| 469/469 [03:28<00:00,  2.25it/s, train_loss=0.0984, test_loss=0.0943]\n"
     ]
    }
   ],
   "source": [
    "model = PixelRNN(hidden_dim=64, num_layers=7)\n",
    "\n",
    "optimizer = Adam(model.parameters())\n",
    "loss_fn = lambda x,y: x\n",
    "transform = transforms.Compose([\n",
    "    transforms.ToTensor(),\n",
    "    transforms.Pad((0, 1, 0, 0)) # left, top, right, bottom\n",
    "])\n",
    "\n",
    "epochs = 30\n",
    "batch_size = 128\n",
    "n_plots = 64\n",
    "\n",
    "root = configs[\"dataset_path\"]\n",
    "\n",
    "download = not os.path.exists(os.path.join(root,\"MNIST\"))\n",
    "device = torch.device(\"cuda\" if torch.cuda.is_available() else \"cpu\")\n",
    "\n",
    "model.to(device)\n",
    "\n",
    "trainset = datasets.MNIST(root=root, download=download, train=True, transform=transform)\n",
    "testset = datasets.MNIST(root=root, download=download, train=False, transform=transform)\n",
    "\n",
    "trainloader = DataLoader(trainset, shuffle=True, batch_size=batch_size)\n",
    "testloader = DataLoader(testset, shuffle=False, batch_size=batch_size)\n",
    "\n",
    "train(\n",
    "    model,\n",
    "    trainloader,\n",
    "    testloader,\n",
    "    epochs,\n",
    "    optimizer,\n",
    "    loss_fn,\n",
    "    device,\n",
    "    data_type=\"image\",\n",
    "    preprocessing=None,\n",
    "    additional_eval=None,\n",
    "    index_type=None,\n",
    "    save_dir=\"..\",\n",
    "    n_plots=n_plots\n",
    ")"
   ]
  },
  {
   "cell_type": "code",
   "execution_count": 3,
   "metadata": {},
   "outputs": [
    {
     "data": {
      "image/png": "[encoded data removed]",
      "text/plain": [
       "<Figure size 720x360 with 2 Axes>"
      ]
     },
     "metadata": {
      "needs_background": "light"
     },
     "output_type": "display_data"
    }
   ],
   "source": [
    "import matplotlib.pyplot as plt\n",
    "\n",
    "img = torch.FloatTensor(testset.data[0]/255)[None,None,:,:].to(device)\n",
    "img[:,:,14:,:].zero_()\n",
    "\n",
    "plt.figure(figsize=(10,5))\n",
    "ax = plt.subplot(1,2,1)\n",
    "ax.imshow(img[0,0].cpu().numpy())\n",
    "ax.set_title(\"Occluded:\")\n",
    "ax.axis(\"off\")\n",
    "ax = plt.subplot(1,2,2)\n",
    "ax.imshow(model.generate(img[:,:,:14,:])[0,0].detach().cpu().numpy())\n",
    "ax.set_title(\"Completed:\")\n",
    "_ = ax.axis(\"off\")"
   ]
  }
 ],
 "metadata": {
  "kernelspec": {
   "display_name": "Python 3",
   "language": "python",
   "name": "python3"
  },
  "language_info": {
   "codemirror_mode": {
    "name": "ipython",
    "version": 3
   },
   "file_extension": ".py",
   "mimetype": "text/x-python",
   "name": "python",
   "nbconvert_exporter": "python",
   "pygments_lexer": "ipython3",
   "version": "3.7.6"
  }
 },
 "nbformat": 4,
 "nbformat_minor": 4
}